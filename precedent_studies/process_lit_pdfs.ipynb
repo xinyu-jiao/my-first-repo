{
 "cells": [
  {
   "cell_type": "code",
   "id": "6a9da7632f87725b",
   "metadata": {
    "ExecuteTime": {
     "end_time": "2025-07-02T05:08:43.993099Z",
     "start_time": "2025-07-02T05:08:43.989623Z"
    }
   },
   "source": [
    "import re\n",
    "import os\n",
    "import json\n",
    "import shutil\n",
    "import pandas as pd"
   ],
   "outputs": [],
   "execution_count": 8
  },
  {
   "metadata": {
    "collapsed": true,
    "ExecuteTime": {
     "end_time": "2025-07-02T05:08:44.349509Z",
     "start_time": "2025-07-02T05:08:44.342515Z"
    }
   },
   "cell_type": "code",
   "source": [
    "def sanitize_filename(name: str) -> str:\n",
    "    return re.sub(r'[<>:\"/\\\\|?*]', '_', name)\n",
    "\n",
    "def export_pdfs_from_excel(\n",
    "        excel_path: str,\n",
    "        output_folder: str,\n",
    "        sheet_name: str\n",
    "):\n",
    "    df = pd.read_excel(excel_path, sheet_name=sheet_name)\n",
    "\n",
    "    os.makedirs(output_folder, exist_ok=True)\n",
    "\n",
    "    for idx, row in df.iterrows():\n",
    "        file_path = row.get(\"File Attachments\")\n",
    "        if not isinstance(file_path, str) or not file_path.lower().endswith(\".pdf\"):\n",
    "            continue\n",
    "\n",
    "        file_path = file_path.strip()\n",
    "        file_path = file_path.replace(\"file://\", \"\")\n",
    "        file_path = os.path.expanduser(file_path)\n",
    "\n",
    "        if not os.path.exists(file_path):\n",
    "            print(f\"Warning: File not found - {file_path}\")\n",
    "            continue\n",
    "\n",
    "        author = str(row.get(\"Authors\", \"\")).strip().replace(\"/\", \"_\")\n",
    "        year = str(row.get(\"Year\", \"\")).strip()\n",
    "        title = str(row.get(\"Title\", \"\")).strip().replace(\"/\", \"_\")\n",
    "        new_filename = f\"{author} - {year} - {title}.pdf\"\n",
    "        new_filename = sanitize_filename(new_filename)\n",
    "        if len(new_filename) > 180:\n",
    "            new_filename = new_filename[:170] + \".pdf\"\n",
    "\n",
    "        dest_path = os.path.join(output_folder, new_filename)\n",
    "        shutil.copyfile(file_path, dest_path)\n",
    "\n",
    "def excel_to_json_with_links(\n",
    "        excel_path: str,\n",
    "        output_json_path: str,\n",
    "        pdf_relative_path: str,\n",
    "        sheet_name: str\n",
    "):\n",
    "    df = pd.read_excel(excel_path, sheet_name=sheet_name)\n",
    "\n",
    "    if \"File Attachments\" in df.columns:\n",
    "        df = df.drop(columns=[\"File Attachments\"])\n",
    "\n",
    "    records = []\n",
    "    for _, row in df.iterrows():\n",
    "        author = sanitize_filename(str(row.get(\"Authors\", \"\")).strip())\n",
    "        year = sanitize_filename(str(row.get(\"Year\", \"\")).strip())\n",
    "        title_raw = str(row.get(\"Title\", \"\")).strip()\n",
    "        title_clean = sanitize_filename(title_raw)\n",
    "\n",
    "        pdf_filename = f\"{author} - {year} - {title_clean}.pdf\"\n",
    "        pdf_link = os.path.join(pdf_relative_path, pdf_filename).replace(\"\\\\\", \"/\")\n",
    "        title_with_link = f'<a href=\"{pdf_link}\" target=\"_blank\">{title_raw}</a>'\n",
    "\n",
    "        row_dict = row.to_dict()\n",
    "        row_dict[\"Title\"] = title_with_link\n",
    "        records.append(row_dict)\n",
    "\n",
    "    with open(output_json_path, \"w\", encoding=\"utf-8\") as f:\n",
    "        json.dump(records, f, indent=2, ensure_ascii=False)"
   ],
   "id": "initial_id",
   "outputs": [],
   "execution_count": 9
  },
  {
   "metadata": {
    "ExecuteTime": {
     "end_time": "2025-07-02T04:58:51.754444Z",
     "start_time": "2025-07-02T04:58:51.656019Z"
    }
   },
   "cell_type": "code",
   "source": [
    "export_pdfs_from_excel(\n",
    "    excel_path=\"./bib_others/bib_others.xlsx\",\n",
    "    output_folder=\"./bib_others/files\",\n",
    "    sheet_name=\"Sheet1\"\n",
    ")"
   ],
   "id": "2f4de944955ae1c0",
   "outputs": [],
   "execution_count": 7
  },
  {
   "metadata": {
    "ExecuteTime": {
     "end_time": "2025-07-02T05:08:46.409675Z",
     "start_time": "2025-07-02T05:08:46.389412Z"
    }
   },
   "cell_type": "code",
   "source": [
    "excel_to_json_with_links(\n",
    "    excel_path=\"./bib_others/bib_others.xlsx\",\n",
    "    output_json_path=\"./bib_others/bib_others.json\",\n",
    "    pdf_relative_path=\"./bib_others/files\",\n",
    "    sheet_name=\"Sheet1\"\n",
    ")"
   ],
   "id": "5e750a7edd1432ff",
   "outputs": [],
   "execution_count": 10
  },
  {
   "metadata": {
    "ExecuteTime": {
     "end_time": "2025-07-02T22:00:38.962872Z",
     "start_time": "2025-07-02T22:00:38.953914Z"
    }
   },
   "cell_type": "code",
   "source": [
    "excel_to_json_with_links(\n",
    "    excel_path=\"./bib_authors/bib_authors.xlsx\",\n",
    "    output_json_path=\"./bib_authors/bib_authors.json\",\n",
    "    pdf_relative_path=\"./bib_authors/files\",\n",
    "    sheet_name=\"Sheet1\"\n",
    ")"
   ],
   "id": "bdf142ec2cb95336",
   "outputs": [],
   "execution_count": 11
  },
  {
   "metadata": {
    "ExecuteTime": {
     "end_time": "2025-07-02T22:09:49.190137Z",
     "start_time": "2025-07-02T22:09:49.182043Z"
    }
   },
   "cell_type": "code",
   "source": [
    "excel_to_json_with_links(\n",
    "    excel_path=\"./bib_original/bib_original.xlsx\",\n",
    "    output_json_path=\"./bib_original/bib_original.json\",\n",
    "    pdf_relative_path=\"./bib_original/files\",\n",
    "    sheet_name=\"Sheet1\"\n",
    ")"
   ],
   "id": "dee59d96ccd0d222",
   "outputs": [],
   "execution_count": 13
  }
 ],
 "metadata": {
  "kernelspec": {
   "display_name": "Python 3",
   "language": "python",
   "name": "python3"
  },
  "language_info": {
   "codemirror_mode": {
    "name": "ipython",
    "version": 2
   },
   "file_extension": ".py",
   "mimetype": "text/x-python",
   "name": "python",
   "nbconvert_exporter": "python",
   "pygments_lexer": "ipython2",
   "version": "2.7.6"
  }
 },
 "nbformat": 4,
 "nbformat_minor": 5
}
